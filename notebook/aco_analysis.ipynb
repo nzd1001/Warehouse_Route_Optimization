{
 "cells": [
  {
   "cell_type": "code",
   "execution_count": 1,
   "metadata": {},
   "outputs": [],
   "source": [
    "from aco import ACO_Solver\n",
    "from aco2 import ACO_Solver2\n",
    "import matplotlib.pyplot as plt\n",
    "import time  \n",
    "from data import load_data_from_input,load_data_from_json,load_data_from_json2\n",
    "import numpy as np"
   ]
  },
  {
   "cell_type": "code",
   "execution_count": 2,
   "metadata": {},
   "outputs": [],
   "source": [
    "def show_conv_test(testcase,conv_test,n,m=0):\n",
    "    x = range(m,n)\n",
    "    y = conv_test[m:n]\n",
    "    fig, ax = plt.subplots()\n",
    "\n",
    "    # Plot the data\n",
    "    ax.plot(x, y)\n",
    "\n",
    "    # Set major ticks at desired intervals (every 1000 points in this case)\n",
    "    ax.set_xticks(range(m, n+1, (n-m)//10))\n",
    "\n",
    "    # Set minor ticks at finer intervals for visual clarity (every 200 points)\n",
    "    ax.set_xticks(range(m, n+1, (n-m)//10), minor=True)\n",
    "\n",
    "    # Turn off minor tick labels\n",
    "    ax.tick_params(which='minor', bottom=False)\n",
    "\n",
    "    ax.set_xlabel('Iterations')\n",
    "    ax.set_ylabel('Current Cost')\n",
    "    ax.set_title(f'ACO performance test on {testcase[\"shelf_num\"]} shelves testcase')\n",
    "\n",
    "    # Optional: Rotate x-axis labels to prevent overlapping\n",
    "    plt.xticks(rotation=45)\n",
    "\n",
    "    # Display the plot\n",
    "    plt.show()"
   ]
  },
  {
   "cell_type": "code",
   "execution_count": 3,
   "metadata": {},
   "outputs": [],
   "source": [
    "testcases=load_data_from_json2()\n",
    "testcase=testcases['100s-test']\n",
    "ans={}\n",
    "cost={}\n",
    "conv={}"
   ]
  },
  {
   "cell_type": "code",
   "execution_count": 5,
   "metadata": {},
   "outputs": [],
   "source": [
    "aco_solver=ACO_Solver(testcase)\n",
    "key2=aco_solver.name\n",
    "ans[key2],cost[key2]=aco_solver.solve()"
   ]
  },
  {
   "cell_type": "code",
   "execution_count": 6,
   "metadata": {},
   "outputs": [],
   "source": [
    "aco_solver=ACO_Solver(testcase)\n",
    "key3=aco_solver.name\n",
    "ans[key3],cost[key3]=aco_solver.solve()"
   ]
  },
  {
   "cell_type": "code",
   "execution_count": 7,
   "metadata": {},
   "outputs": [
    {
     "name": "stdout",
     "output_type": "stream",
     "text": [
      "730\n"
     ]
    }
   ],
   "source": [
    "\"\"\" n=len(conv[key2])\n",
    "print(n)\n",
    "print(conv[key2])\n",
    "print(min(conv[key2])) \"\"\"\n",
    "print(cost[key2])"
   ]
  },
  {
   "cell_type": "code",
   "execution_count": 8,
   "metadata": {},
   "outputs": [
    {
     "name": "stdout",
     "output_type": "stream",
     "text": [
      "730\n"
     ]
    }
   ],
   "source": [
    "print(cost[key3])"
   ]
  },
  {
   "cell_type": "code",
   "execution_count": 6,
   "metadata": {},
   "outputs": [
    {
     "ename": "KeyError",
     "evalue": "'ACO2'",
     "output_type": "error",
     "traceback": [
      "\u001b[1;31m---------------------------------------------------------------------------\u001b[0m",
      "\u001b[1;31mKeyError\u001b[0m                                  Traceback (most recent call last)",
      "Cell \u001b[1;32mIn[6], line 1\u001b[0m\n\u001b[1;32m----> 1\u001b[0m show_conv_test(testcase,\u001b[43mconv\u001b[49m\u001b[43m[\u001b[49m\u001b[43mkey2\u001b[49m\u001b[43m]\u001b[49m,n)\n",
      "\u001b[1;31mKeyError\u001b[0m: 'ACO2'"
     ]
    }
   ],
   "source": [
    "show_conv_test(testcase,conv[key2],n)"
   ]
  }
 ],
 "metadata": {
  "kernelspec": {
   "display_name": "Python 3",
   "language": "python",
   "name": "python3"
  },
  "language_info": {
   "codemirror_mode": {
    "name": "ipython",
    "version": 3
   },
   "file_extension": ".py",
   "mimetype": "text/x-python",
   "name": "python",
   "nbconvert_exporter": "python",
   "pygments_lexer": "ipython3",
   "version": "3.11.7"
  }
 },
 "nbformat": 4,
 "nbformat_minor": 2
}
