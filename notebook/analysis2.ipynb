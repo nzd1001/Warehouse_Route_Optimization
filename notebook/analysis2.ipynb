{
 "cells": [
  {
   "cell_type": "code",
   "execution_count": 1,
   "metadata": {},
   "outputs": [],
   "source": [
    "from greedy import Greedy_Solver\n",
    "from aco import ACO_Solver\n",
    "from aco2 import ACO_Solver2\n",
    "from bb import BB_Solver\n",
    "from LS_SA import LS_LA_Solver\n",
    "from LS_SA2 import LS_LA_Solver2\n",
    "from cp import CP_Solver\n",
    "from ip import IP_Solver\n",
    "from data import load_data_from_json2,load_data_from_json\n",
    "import random,math,json\n",
    "import matplotlib.pyplot as plt\n",
    "import time  \n",
    "import numpy as np"
   ]
  },
  {
   "cell_type": "code",
   "execution_count": 6,
   "metadata": {},
   "outputs": [],
   "source": [
    "def run(Solver,testcases,result,Solvers):\n",
    "    solver=Solver(testcases['10s-test'])\n",
    "    result[solver.name]=[]\n",
    "    for name in testcases:\n",
    "        testcase=testcases[name]\n",
    "        if testcase['shelf_num']>50 and Solvers.index(Solver)<3:\n",
    "            continue\n",
    "        solver=Solver(testcase)\n",
    "        start=time.time()\n",
    "        ans,cost=solver.solve()\n",
    "        end=time.time()\n",
    "        runtime=end-start\n",
    "        result[solver.name].append((cost,runtime))"
   ]
  },
  {
   "cell_type": "code",
   "execution_count": 7,
   "metadata": {},
   "outputs": [],
   "source": [
    "testcases=load_data_from_json2()\n",
    "Solvers=[BB_Solver,CP_Solver,IP_Solver,Greedy_Solver,ACO_Solver,LS_LA_Solver,ACO_Solver2]\n",
    "result={}\n"
   ]
  },
  {
   "cell_type": "code",
   "execution_count": 9,
   "metadata": {},
   "outputs": [
    {
     "name": "stdout",
     "output_type": "stream",
     "text": [
      "Unexpected exception formatting exception. Falling back to standard exception\n"
     ]
    },
    {
     "name": "stderr",
     "output_type": "stream",
     "text": [
      "Traceback (most recent call last):\n",
      "  File \"C:\\Users\\HP\\AppData\\Local\\Packages\\PythonSoftwareFoundation.Python.3.11_qbz5n2kfra8p0\\LocalCache\\local-packages\\Python311\\site-packages\\IPython\\core\\interactiveshell.py\", line 3526, in run_code\n",
      "    exec(code_obj, self.user_global_ns, self.user_ns)\n",
      "  File \"C:\\Users\\HP\\AppData\\Local\\Temp\\ipykernel_27448\\743795327.py\", line 1, in <module>\n",
      "    run(BB_Solver,testcases,result,Solvers)\n",
      "  File \"C:\\Users\\HP\\AppData\\Local\\Temp\\ipykernel_27448\\3281485135.py\", line 10, in run\n",
      "    ans,cost=solver.solve()\n",
      "             ^^^^^^^^^^^^^^\n",
      "  File \"d:\\python\\fund_opt\\mini_project\\bb.py\", line 38, in solve\n",
      "    self.BB(curr_bound, 1, curr_weight, curr_path, visited, kpi)\n",
      "  File \"d:\\python\\fund_opt\\mini_project\\bb.py\", line 80, in BB\n",
      "    self.BB(curr_bound, level + 1, curr_weight, curr_path, visited, kpi)\n",
      "  File \"d:\\python\\fund_opt\\mini_project\\bb.py\", line 80, in BB\n",
      "    self.BB(curr_bound, level + 1, curr_weight, curr_path, visited, kpi)\n",
      "  File \"d:\\python\\fund_opt\\mini_project\\bb.py\", line 80, in BB\n",
      "    self.BB(curr_bound, level + 1, curr_weight, curr_path, visited, kpi)\n",
      "  [Previous line repeated 23 more times]\n",
      "  File \"d:\\python\\fund_opt\\mini_project\\bb.py\", line None, in BB\n",
      "KeyboardInterrupt\n",
      "\n",
      "During handling of the above exception, another exception occurred:\n",
      "\n",
      "Traceback (most recent call last):\n",
      "  File \"C:\\Users\\HP\\AppData\\Local\\Packages\\PythonSoftwareFoundation.Python.3.11_qbz5n2kfra8p0\\LocalCache\\local-packages\\Python311\\site-packages\\IPython\\core\\interactiveshell.py\", line 2120, in showtraceback\n",
      "    stb = self.InteractiveTB.structured_traceback(\n",
      "          ^^^^^^^^^^^^^^^^^^^^^^^^^^^^^^^^^^^^^^^^\n",
      "  File \"C:\\Users\\HP\\AppData\\Local\\Packages\\PythonSoftwareFoundation.Python.3.11_qbz5n2kfra8p0\\LocalCache\\local-packages\\Python311\\site-packages\\IPython\\core\\ultratb.py\", line 1435, in structured_traceback\n",
      "    return FormattedTB.structured_traceback(\n",
      "           ^^^^^^^^^^^^^^^^^^^^^^^^^^^^^^^^^\n",
      "  File \"C:\\Users\\HP\\AppData\\Local\\Packages\\PythonSoftwareFoundation.Python.3.11_qbz5n2kfra8p0\\LocalCache\\local-packages\\Python311\\site-packages\\IPython\\core\\ultratb.py\", line 1326, in structured_traceback\n",
      "    return VerboseTB.structured_traceback(\n",
      "           ^^^^^^^^^^^^^^^^^^^^^^^^^^^^^^^\n",
      "  File \"C:\\Users\\HP\\AppData\\Local\\Packages\\PythonSoftwareFoundation.Python.3.11_qbz5n2kfra8p0\\LocalCache\\local-packages\\Python311\\site-packages\\IPython\\core\\ultratb.py\", line 1173, in structured_traceback\n",
      "    formatted_exception = self.format_exception_as_a_whole(etype, evalue, etb, number_of_lines_of_context,\n",
      "                          ^^^^^^^^^^^^^^^^^^^^^^^^^^^^^^^^^^^^^^^^^^^^^^^^^^^^^^^^^^^^^^^^^^^^^^^^^^^^^^^^\n",
      "  File \"C:\\Users\\HP\\AppData\\Local\\Packages\\PythonSoftwareFoundation.Python.3.11_qbz5n2kfra8p0\\LocalCache\\local-packages\\Python311\\site-packages\\IPython\\core\\ultratb.py\", line 1088, in format_exception_as_a_whole\n",
      "    frames.append(self.format_record(record))\n",
      "                  ^^^^^^^^^^^^^^^^^^^^^^^^^^\n",
      "  File \"C:\\Users\\HP\\AppData\\Local\\Packages\\PythonSoftwareFoundation.Python.3.11_qbz5n2kfra8p0\\LocalCache\\local-packages\\Python311\\site-packages\\IPython\\core\\ultratb.py\", line 970, in format_record\n",
      "    frame_info.lines, Colors, self.has_colors, lvals\n",
      "    ^^^^^^^^^^^^^^^^\n",
      "  File \"C:\\Users\\HP\\AppData\\Local\\Packages\\PythonSoftwareFoundation.Python.3.11_qbz5n2kfra8p0\\LocalCache\\local-packages\\Python311\\site-packages\\IPython\\core\\ultratb.py\", line 792, in lines\n",
      "    return self._sd.lines\n",
      "           ^^^^^^^^^^^^^^\n",
      "  File \"C:\\Users\\HP\\AppData\\Local\\Packages\\PythonSoftwareFoundation.Python.3.11_qbz5n2kfra8p0\\LocalCache\\local-packages\\Python311\\site-packages\\stack_data\\utils.py\", line 144, in cached_property_wrapper\n",
      "    value = obj.__dict__[self.func.__name__] = self.func(obj)\n",
      "                                               ^^^^^^^^^^^^^^\n",
      "  File \"C:\\Users\\HP\\AppData\\Local\\Packages\\PythonSoftwareFoundation.Python.3.11_qbz5n2kfra8p0\\LocalCache\\local-packages\\Python311\\site-packages\\stack_data\\core.py\", line 734, in lines\n",
      "    pieces = self.included_pieces\n",
      "             ^^^^^^^^^^^^^^^^^^^^\n",
      "  File \"C:\\Users\\HP\\AppData\\Local\\Packages\\PythonSoftwareFoundation.Python.3.11_qbz5n2kfra8p0\\LocalCache\\local-packages\\Python311\\site-packages\\stack_data\\utils.py\", line 144, in cached_property_wrapper\n",
      "    value = obj.__dict__[self.func.__name__] = self.func(obj)\n",
      "                                               ^^^^^^^^^^^^^^\n",
      "  File \"C:\\Users\\HP\\AppData\\Local\\Packages\\PythonSoftwareFoundation.Python.3.11_qbz5n2kfra8p0\\LocalCache\\local-packages\\Python311\\site-packages\\stack_data\\core.py\", line 681, in included_pieces\n",
      "    pos = scope_pieces.index(self.executing_piece)\n",
      "                             ^^^^^^^^^^^^^^^^^^^^\n",
      "  File \"C:\\Users\\HP\\AppData\\Local\\Packages\\PythonSoftwareFoundation.Python.3.11_qbz5n2kfra8p0\\LocalCache\\local-packages\\Python311\\site-packages\\stack_data\\utils.py\", line 144, in cached_property_wrapper\n",
      "    value = obj.__dict__[self.func.__name__] = self.func(obj)\n",
      "                                               ^^^^^^^^^^^^^^\n",
      "  File \"C:\\Users\\HP\\AppData\\Local\\Packages\\PythonSoftwareFoundation.Python.3.11_qbz5n2kfra8p0\\LocalCache\\local-packages\\Python311\\site-packages\\stack_data\\core.py\", line 660, in executing_piece\n",
      "    return only(\n",
      "           ^^^^^\n",
      "  File \"C:\\Users\\HP\\AppData\\Local\\Packages\\PythonSoftwareFoundation.Python.3.11_qbz5n2kfra8p0\\LocalCache\\local-packages\\Python311\\site-packages\\executing\\executing.py\", line 190, in only\n",
      "    raise NotOneValueFound('Expected one value, found 0')\n",
      "executing.executing.NotOneValueFound: Expected one value, found 0\n"
     ]
    }
   ],
   "source": [
    "run(BB_Solver,testcases,result,Solvers)"
   ]
  },
  {
   "cell_type": "code",
   "execution_count": 5,
   "metadata": {},
   "outputs": [],
   "source": [
    "run(CP_Solver,testcases,result,Solvers)\n",
    "run(IP_Solver,testcases,result,Solvers)"
   ]
  },
  {
   "cell_type": "code",
   "execution_count": 9,
   "metadata": {},
   "outputs": [],
   "source": [
    "run(ACO_Solver,testcases,result,Solvers)"
   ]
  },
  {
   "cell_type": "code",
   "execution_count": 4,
   "metadata": {},
   "outputs": [],
   "source": [
    "run(LS_LA_Solver,testcases,result,Solvers)"
   ]
  },
  {
   "cell_type": "code",
   "execution_count": 5,
   "metadata": {},
   "outputs": [
    {
     "name": "stdout",
     "output_type": "stream",
     "text": [
      "[(148, 0.03441047668457031), (121, 65.08870482444763)]\n",
      "\n",
      "\n"
     ]
    }
   ],
   "source": [
    "for name in result:\n",
    "    print(result[name])\n",
    "    print('\\n')"
   ]
  },
  {
   "cell_type": "markdown",
   "metadata": {},
   "source": [
    "BB=[(148, 0.03441047668457031), (121, 65.08870482444763)]\n",
    "CP=[(148.0, 0.15374088287353516), (121.0, 2.8695554733276367)]\n",
    "IP=[(148.0, 0.12858200073242188), (121.0, 2.309103488922119)]\n",
    "Greedy=[(217, 0.0), (172, 0.0), (292, 0.0), (783, 0.001230001449584961), (1051, 0.0010085105895996094), (2525, 0.0069997310638427734)]\n",
    "ACO_Solver=[(148, 6.819920063018799), (128, 15.474803924560547), (220, 32.51289892196655), (752, 83.69358921051025), (1141, 239.22465085983276), (2957, 1362.8865461349487)]\n",
    "ACO_Solver2=[(148, 6.819920063018799), (130, 15.474803924560547), (285, 32.51289892196655), (808, 83.69358921051025), (1067, 239.22465085983276), (2734, 1362.8865461349487)]\n",
    "LS_LA_Solver=[(148, 25.24290680885315), (122, 34.32037806510925), (218, 56.21844244003296), (636, 103.94609093666077), (896, 108.00732851028442), (2197, 355.0689618587494)]\n"
   ]
  },
  {
   "cell_type": "code",
   "execution_count": null,
   "metadata": {},
   "outputs": [],
   "source": []
  }
 ],
 "metadata": {
  "kernelspec": {
   "display_name": "Python 3",
   "language": "python",
   "name": "python3"
  },
  "language_info": {
   "codemirror_mode": {
    "name": "ipython",
    "version": 3
   },
   "file_extension": ".py",
   "mimetype": "text/x-python",
   "name": "python",
   "nbconvert_exporter": "python",
   "pygments_lexer": "ipython3",
   "version": "3.11.7"
  }
 },
 "nbformat": 4,
 "nbformat_minor": 2
}
